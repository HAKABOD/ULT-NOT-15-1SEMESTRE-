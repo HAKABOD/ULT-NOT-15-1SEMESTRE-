{
  "nbformat": 4,
  "nbformat_minor": 0,
  "metadata": {
    "colab": {
      "provenance": [],
      "authorship_tag": "ABX9TyO6OTxO0dJcaiTUTUUV15+b",
      "include_colab_link": true
    },
    "kernelspec": {
      "name": "python3",
      "display_name": "Python 3"
    },
    "language_info": {
      "name": "python"
    }
  },
  "cells": [
    {
      "cell_type": "markdown",
      "metadata": {
        "id": "view-in-github",
        "colab_type": "text"
      },
      "source": [
        "<a href=\"https://colab.research.google.com/github/HAKABOD/ULT-NOT-15-1SEMESTRE-/blob/main/codigoemboye544456.ipynb\" target=\"_parent\"><img src=\"https://colab.research.google.com/assets/colab-badge.svg\" alt=\"Open In Colab\"/></a>"
      ]
    },
    {
      "cell_type": "code",
      "execution_count": 2,
      "metadata": {
        "colab": {
          "base_uri": "https://localhost:8080/"
        },
        "id": "GcwfHDJt1jmf",
        "outputId": "c6797d09-9c8b-4b94-d0c3-0820d6466858"
      },
      "outputs": [
        {
          "output_type": "stream",
          "name": "stdout",
          "text": [
            "Employee with identification 1 added to the meeting\n",
            "Employee with identification 2 added to the meeting\n",
            "Employee with identification 3 added to the meeting\n",
            "Employee with identification 4 added to the meeting\n",
            "# Attendees in the meeting: 4\n",
            "\n",
            "My name is: lola and I work for robocnick\n",
            "My identification is 1\n",
            "\n",
            "My name is: angela and I work for robocnick\n",
            "My identification is 2\n",
            "\n",
            "My name is: julio and I work for robocnick\n",
            "My identification is 3\n",
            "I am an administrator\n",
            "User: 3; Role: Administrator\n",
            "\n",
            "My name is: elias and I work for robocnick\n",
            "My identification is 4\n",
            "I am an administrator\n",
            "I am the boss\n",
            "User: 4; Role: Administrator\n"
          ]
        }
      ],
      "source": [
        "from abc import ABC, abstractmethod\n",
        "\n",
        "class BaseEmployee(ABC):\n",
        "    _id = 1\n",
        "\n",
        "    def __init__(self):\n",
        "        self.id = BaseEmployee._id\n",
        "        BaseEmployee._id += 1\n",
        "\n",
        "    def show_id(self):\n",
        "        pass\n",
        "\n",
        "class Employee(BaseEmployee):\n",
        "    def __init__(self):\n",
        "        super().__init__()\n",
        "        self.name = None\n",
        "        self.__company = 'robocnick'\n",
        "\n",
        "    def show_id(self):\n",
        "        print(f'My identification is {self.id}')\n",
        "\n",
        "    def get_name(self):\n",
        "        return self.name\n",
        "\n",
        "    def set_name(self, name):\n",
        "        self.name = name\n",
        "\n",
        "class User:\n",
        "    def __init__(self, username, role):\n",
        "        self.username = self.id\n",
        "        self.role = role\n",
        "\n",
        "    def show_user_info(self):\n",
        "        print(f'User: {self.username}; Role: {self.role}')\n",
        "\n",
        "class Administrator(Employee, User):\n",
        "    def __init__(self, username):\n",
        "        Employee.__init__(self)\n",
        "        User.__init__(self, username, 'Administrator')\n",
        "\n",
        "    def show_id(self):\n",
        "        super().show_id()\n",
        "        print(\"I am an administrator\")\n",
        "\n",
        "class Manager(Administrator):\n",
        "    def __init__(self, username):\n",
        "        super().__init__(username)\n",
        "\n",
        "    def show_id(self):\n",
        "        super().show_id()\n",
        "        print(\"I am the boss\")\n",
        "\n",
        "class Meeting:\n",
        "    def __init__(self):\n",
        "        self.attendees = []\n",
        "\n",
        "    def add_attendee(self, employee):\n",
        "        if isinstance(employee, Employee):\n",
        "            self.attendees.append(employee)\n",
        "            print(f\"Employee with identification {employee.id} added to the meeting\")\n",
        "\n",
        "    def number_of_attendees(self):\n",
        "        return len(self.attendees)\n",
        "\n",
        "employee1 = Employee()\n",
        "employee2 = Employee()\n",
        "admin1 = Administrator(\"Julio\")\n",
        "manager1 = Manager(\"elias\")\n",
        "\n",
        "meeting1 = Meeting()\n",
        "meeting1.add_attendee(employee1)\n",
        "meeting1.add_attendee(employee2)\n",
        "meeting1.add_attendee(admin1)\n",
        "meeting1.add_attendee(manager1)\n",
        "\n",
        "print(f\"# Attendees in the meeting: {meeting1.number_of_attendees()}\")\n",
        "employee1.set_name(\"lola\")\n",
        "employee2.set_name(\"angela\")\n",
        "admin1.set_name(\"julio\")\n",
        "manager1.set_name(\"elias\")\n",
        "\n",
        "for employee in meeting1.attendees:\n",
        "    print(f\"\\nMy name is: {employee.get_name()} and I work for {employee._Employee__company}\")\n",
        "    employee.show_id()\n",
        "    try:\n",
        "        employee.show_user_info()\n",
        "    except AttributeError:\n",
        "        continue\n"
      ]
    },
    {
      "cell_type": "markdown",
      "source": [
        "sebastian.julio@upb.edu.co \\ sebastian julio vilalba \\ Ingeniera electronica | ID: 000544456"
      ],
      "metadata": {
        "id": "gsdI4JHy4vB_"
      }
    }
  ]
}